{
 "cells": [
  {
   "cell_type": "code",
   "execution_count": 2,
   "id": "a358e3d1-17df-4126-9339-3c1186a5b23d",
   "metadata": {},
   "outputs": [],
   "source": [
    "from selenium import webdriver\n",
    "from selenium.webdriver.common.by import By\n",
    "import pandas as pd\n",
    "is_url = \"https://www.gutenberg.org/ebooks/search/?sort_order=release_date\"\n",
    "\n",
    "driver = webdriver.Chrome()\n",
    "driver.get(is_url)"
   ]
  },
  {
   "cell_type": "code",
   "execution_count": null,
   "id": "811a35b7-330c-49a8-a165-fd98baebbd72",
   "metadata": {},
   "outputs": [],
   "source": [
    "data = []  # Initialize an empty list to store book data\n",
    "while True:\n",
    "    books = driver.find_elements(By.CLASS_NAME, 'booklink')\n",
    "    for book in books:\n",
    "        try:\n",
    "            title = book.find_elements(By.CLASS_NAME, 'title')[0].text\n",
    "            author = book.find_elements(By.CLASS_NAME, 'subtitle')[0].text.strip()\n",
    "            date = book.find_elements(By.CLASS_NAME, 'extra')[0].text\n",
    "        except:\n",
    "            title = 'Not available'\n",
    "            author = 'Not available'\n",
    "            date = 'Not available'\n",
    "\n",
    "        data.append({'Title': title, 'Author': author, 'Date': date})  # Append book data as a dictionary\n",
    "\n",
    "     driver.find_elements(By.CLASS_NAME,'statusline')[0].find_elements(By.TAG_NAME,'a')[-1].click()\n",
    "\n",
    "    # Check for a stopping condition (e.g., no more 'booklink' elements)\n",
    "    if not books:\n",
    "        driver.quite()\n",
    "        break  # Exit the loop if no more books are found\n",
    "\n",
    "# Create a DataFrame from the collected data\n",
    "df = pd.DataFrame(data)\n",
    "\n",
    "df\n",
    "# Optional: Save the DataFrame to a CSV file\n",
    "df.to_csv('book_data.csv', index=False)\n"
   ]
  },
  {
   "cell_type": "code",
   "execution_count": null,
   "id": "cfe7e853-115d-4af8-8269-281a89f78b78",
   "metadata": {},
   "outputs": [],
   "source": []
  },
  {
   "cell_type": "code",
   "execution_count": null,
   "id": "94fb3451-2f18-46fb-97f3-ce7c63bb0977",
   "metadata": {},
   "outputs": [],
   "source": []
  }
 ],
 "metadata": {
  "kernelspec": {
   "display_name": "Python 3 (ipykernel)",
   "language": "python",
   "name": "python3"
  },
  "language_info": {
   "codemirror_mode": {
    "name": "ipython",
    "version": 3
   },
   "file_extension": ".py",
   "mimetype": "text/x-python",
   "name": "python",
   "nbconvert_exporter": "python",
   "pygments_lexer": "ipython3",
   "version": "3.11.4"
  }
 },
 "nbformat": 4,
 "nbformat_minor": 5
}
