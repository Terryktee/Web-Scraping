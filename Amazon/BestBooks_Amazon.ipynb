{
 "cells": [
  {
   "cell_type": "code",
   "execution_count": 195,
   "id": "30547ee5-5833-4592-92cd-f8b573e88099",
   "metadata": {},
   "outputs": [],
   "source": [
    "import requests\n",
    "from bs4 import BeautifulSoup \n",
    "import pandas as pd"
   ]
  },
  {
   "cell_type": "code",
   "execution_count": 196,
   "id": "8a0e6511-d859-4d42-949e-ffef9e8ab632",
   "metadata": {},
   "outputs": [],
   "source": [
    "topics_url= \"https://www.amazon.in/gp/bestsellers/books/\""
   ]
  },
  {
   "cell_type": "code",
   "execution_count": 197,
   "id": "ee1a14f7-9da4-4406-96ef-69bd3cd5fa18",
   "metadata": {},
   "outputs": [],
   "source": [
    "response= requests.get(topics_url)\n",
    "url_contents = response.text\n",
    "doc = BeautifulSoup(url_contents,'html.parser')"
   ]
  },
  {
   "cell_type": "code",
   "execution_count": 198,
   "id": "06f1642b-848f-46ff-ab87-b4c6f85a1a52",
   "metadata": {},
   "outputs": [
    {
     "data": {
      "text/plain": [
       "[<div class=\"_cDEzb_p13n-sc-css-line-clamp-1_1Fn1y\">Atomic Habits</div>,\n",
       " <div class=\"_cDEzb_p13n-sc-css-line-clamp-1_1Fn1y\">James Clear</div>,\n",
       " <div class=\"_cDEzb_p13n-sc-css-line-clamp-1_1Fn1y\">Sunil Gurjar</div>,\n",
       " <div class=\"_cDEzb_p13n-sc-css-line-clamp-1_1Fn1y\">My First Library: Boxset of 10 Board Books for Kids</div>,\n",
       " <div class=\"_cDEzb_p13n-sc-css-line-clamp-1_1Fn1y\">Wonder House Books</div>,\n",
       " <div class=\"_cDEzb_p13n-sc-css-line-clamp-1_1Fn1y\">Don't Believe Everything You Think (English)</div>,\n",
       " <div class=\"_cDEzb_p13n-sc-css-line-clamp-1_1Fn1y\">Joseph Nguyen</div>,\n",
       " <div class=\"_cDEzb_p13n-sc-css-line-clamp-1_1Fn1y\">Ikigai</div>,\n",
       " <div class=\"_cDEzb_p13n-sc-css-line-clamp-1_1Fn1y\">Francesc Miralles</div>,\n",
       " <div class=\"_cDEzb_p13n-sc-css-line-clamp-1_1Fn1y\">Oswaal CBSE Sample Question Papers Class 10 Science Book (For Board Exams 2024) | 2023-24</div>,\n",
       " <div class=\"_cDEzb_p13n-sc-css-line-clamp-1_1Fn1y\">Oswaal Editorial Board</div>,\n",
       " <div class=\"_cDEzb_p13n-sc-css-line-clamp-1_1Fn1y\">The Power of Your Subconscious Mind</div>,\n",
       " <div class=\"_cDEzb_p13n-sc-css-line-clamp-1_1Fn1y\">Joseph Murphy</div>,\n",
       " <div class=\"_cDEzb_p13n-sc-css-line-clamp-1_1Fn1y\">Shrimad Bhagwat Geeta Yatharoop</div>,\n",
       " <div class=\"_cDEzb_p13n-sc-css-line-clamp-1_1Fn1y\">A.C. Bhaktivendanta Swami Prabhupada</div>,\n",
       " <div class=\"_cDEzb_p13n-sc-css-line-clamp-1_1Fn1y\">The Psychology Of Money</div>,\n",
       " <div class=\"_cDEzb_p13n-sc-css-line-clamp-1_1Fn1y\">Morgan Housel</div>,\n",
       " <div class=\"_cDEzb_p13n-sc-css-line-clamp-1_1Fn1y\">Oswaal CBSE Sample Question Papers Class 10 Mathematics Standard Book (For Board Exams 2024) | 2023-24</div>,\n",
       " <div class=\"_cDEzb_p13n-sc-css-line-clamp-1_1Fn1y\">Oswaal Editorial Board</div>,\n",
       " <div class=\"_cDEzb_p13n-sc-css-line-clamp-1_1Fn1y\">Colouring Books Boxset: Pack of 12 Copy Colour Books For Children</div>,\n",
       " <div class=\"_cDEzb_p13n-sc-css-line-clamp-1_1Fn1y\">Wonder House Books</div>,\n",
       " <div class=\"_cDEzb_p13n-sc-css-line-clamp-1_1Fn1y\">201 Brain Booster Activity Book - Fun Activities and Exercises For Children: Tracing &amp; Pattern, Colors &amp; Shapes, Maze</div>,\n",
       " <div class=\"_cDEzb_p13n-sc-css-line-clamp-1_1Fn1y\">Wonder House Books</div>,\n",
       " <div class=\"_cDEzb_p13n-sc-css-line-clamp-1_1Fn1y\">33 Days Challenge CBSE Class 10 Final Revision Book Pack of 3 Mathematics Standard Science Social Science for 2024 Board Exam (Includes Sample Papers) by Padhle Akshay</div>,\n",
       " <div class=\"_cDEzb_p13n-sc-css-line-clamp-1_1Fn1y\">Akshay Kumar</div>,\n",
       " <div class=\"_cDEzb_p13n-sc-css-line-clamp-1_1Fn1y\">My First Book of Patterns Pencil Control: Patterns Practice book for kids (Pattern Writing)</div>,\n",
       " <div class=\"_cDEzb_p13n-sc-css-line-clamp-1_1Fn1y\">Wonder House Books</div>,\n",
       " <div class=\"_cDEzb_p13n-sc-css-line-clamp-1_1Fn1y\">Breaking the Mould : Reimagining India's Economic Future</div>,\n",
       " <div class=\"_cDEzb_p13n-sc-css-line-clamp-1_1Fn1y\">Raghuram Rajan</div>,\n",
       " <div class=\"_cDEzb_p13n-sc-css-line-clamp-1_1Fn1y\">S. Jaishankar</div>,\n",
       " <div class=\"_cDEzb_p13n-sc-css-line-clamp-1_1Fn1y\">THE 48 LAWS OF POWER</div>,\n",
       " <div class=\"_cDEzb_p13n-sc-css-line-clamp-1_1Fn1y\">Robert Greene</div>,\n",
       " <div class=\"_cDEzb_p13n-sc-css-line-clamp-1_1Fn1y\">Rich Dad Poor Dad: 25th Anniversary Edit</div>,\n",
       " <div class=\"_cDEzb_p13n-sc-css-line-clamp-1_1Fn1y\">Robert T. Kiyosaki</div>,\n",
       " <div class=\"_cDEzb_p13n-sc-css-line-clamp-1_1Fn1y\">Diary Of A Wimpy Kid: No Brainer (Book 18)</div>,\n",
       " <div class=\"_cDEzb_p13n-sc-css-line-clamp-1_1Fn1y\">Jeff Kinney</div>,\n",
       " <div class=\"_cDEzb_p13n-sc-css-line-clamp-1_1Fn1y\">Grandma's Bag of Stories: Collection of 20+ Illustrated short stories, traditional Indian folk tales for all ages for children of all ages by Sudha Murty [Paperback] Sudha Murty</div>,\n",
       " <div class=\"_cDEzb_p13n-sc-css-line-clamp-1_1Fn1y\">Murty Sudha</div>,\n",
       " <div class=\"_cDEzb_p13n-sc-css-line-clamp-1_1Fn1y\">Brain Activity Book for Kids - 200+ Activities for Age 3+</div>,\n",
       " <div class=\"_cDEzb_p13n-sc-css-line-clamp-1_1Fn1y\">Maple Press</div>,\n",
       " <div class=\"_cDEzb_p13n-sc-css-line-clamp-1_1Fn1y\">THE SILENT PATIENT [Paperback] Michaelides, Alex</div>,\n",
       " <div class=\"_cDEzb_p13n-sc-css-line-clamp-1_1Fn1y\">Alex Michaelides</div>,\n",
       " <div class=\"_cDEzb_p13n-sc-css-line-clamp-1_1Fn1y\">Do It Today: Overcome procrastination, improve productivity and achieve more meaningful things [Paperback] Foroux, Darius</div>,\n",
       " <div class=\"_cDEzb_p13n-sc-css-line-clamp-1_1Fn1y\">Darius Foroux</div>,\n",
       " <div class=\"_cDEzb_p13n-sc-css-line-clamp-1_1Fn1y\">You Can</div>,\n",
       " <div class=\"_cDEzb_p13n-sc-css-line-clamp-1_1Fn1y\">George Matthew Adams</div>,\n",
       " <div class=\"_cDEzb_p13n-sc-css-line-clamp-1_1Fn1y\">My First Mythology Tale (Illustrated) (Set of 5 Books) - Mahabharata, Krishna, Hanuman, Ganesha, Ramayana - Story Book for Kids - English Short Stories with Colourful Pictures - Read Aloud to Infants, Toddlers</div>,\n",
       " <div class=\"_cDEzb_p13n-sc-css-line-clamp-1_1Fn1y\">Maple Press</div>,\n",
       " <div class=\"_cDEzb_p13n-sc-css-line-clamp-1_1Fn1y\">BRAHMASTRA Complete Maths Multicolored Formula Book Second Edition BILINGUAL by Aditya Ranjan Sir</div>,\n",
       " <div class=\"_cDEzb_p13n-sc-css-line-clamp-1_1Fn1y\">Aditya Ranjan Sir</div>,\n",
       " <div class=\"_cDEzb_p13n-sc-css-line-clamp-1_1Fn1y\">Moral Story Books for Kids (Illustrated) - English Short Stories with Colourful Pictures - Bedtime Children Story Book - 3 Years to 6 Years Old Children - Read Aloud to Infants, Toddlers (Set of 10 Books)</div>,\n",
       " <div class=\"_cDEzb_p13n-sc-css-line-clamp-1_1Fn1y\">Maple Press</div>,\n",
       " <div class=\"_cDEzb_p13n-sc-css-line-clamp-1_1Fn1y\">Oswaal CBSE Sample Question Papers Class 10 Social Science Book (For Board Exams 2024) | 2023-24</div>,\n",
       " <div class=\"_cDEzb_p13n-sc-css-line-clamp-1_1Fn1y\">Oswaal Editorial Board</div>,\n",
       " <div class=\"_cDEzb_p13n-sc-css-line-clamp-1_1Fn1y\">Oswal - Gurukul Last Years 10 Solved Papers for CBSE Class 10 Exam 2024 - Yearwise Board Solutions of Math Standard, English, Science &amp; Social Science (All Sets Delhi &amp; Outside), Latest Syllabus</div>,\n",
       " <div class=\"_cDEzb_p13n-sc-css-line-clamp-1_1Fn1y\">Oswal - Gurukul</div>,\n",
       " <div class=\"_cDEzb_p13n-sc-css-line-clamp-1_1Fn1y\">The Power of Your Subconscious Mind</div>,\n",
       " <div class=\"_cDEzb_p13n-sc-css-line-clamp-1_1Fn1y\">Joseph Murphy</div>,\n",
       " <div class=\"_cDEzb_p13n-sc-css-line-clamp-1_1Fn1y\">World’s Greatest Books For Personal Growth &amp; Wealth (Set of 4 Books) : Perfect Motivational Gift Set</div>,\n",
       " <div class=\"_cDEzb_p13n-sc-css-line-clamp-1_1Fn1y\">Dale Carnegie</div>,\n",
       " <div class=\"_cDEzb_p13n-sc-css-line-clamp-1_1Fn1y\">Same As Ever: Timeless Lessons on Risk, Opportunity and Living a Good Life</div>,\n",
       " <div class=\"_cDEzb_p13n-sc-css-line-clamp-1_1Fn1y\">Morgan Housel</div>,\n",
       " <div class=\"_cDEzb_p13n-sc-css-line-clamp-1_1Fn1y\">Meditations</div>,\n",
       " <div class=\"_cDEzb_p13n-sc-css-line-clamp-1_1Fn1y\">Marcus Aurelius</div>,\n",
       " <div class=\"_cDEzb_p13n-sc-css-line-clamp-1_1Fn1y\">Man's Search For Meaning: The classic tribute to hope from the Holocaust</div>,\n",
       " <div class=\"_cDEzb_p13n-sc-css-line-clamp-1_1Fn1y\">Victor E. Frankl</div>,\n",
       " <div class=\"_cDEzb_p13n-sc-css-line-clamp-1_1Fn1y\">Think And Grow Rich [Original Edition (Complete), PREMIUM PAPERBACK]</div>,\n",
       " <div class=\"_cDEzb_p13n-sc-css-line-clamp-1_1Fn1y\">Napoleon Hill</div>,\n",
       " <div class=\"_cDEzb_p13n-sc-css-line-clamp-1_1Fn1y\">Trading Chart Pattern Book In Hindi | Includes Candlestick &amp; Breakout Patterns | Indicators &amp; Risk Management |</div>,\n",
       " <div class=\"_cDEzb_p13n-sc-css-line-clamp-1_1Fn1y\">Jagannath Patait</div>,\n",
       " <div class=\"_cDEzb_p13n-sc-css-line-clamp-1_1Fn1y\">How to Win Friends and Influence People</div>,\n",
       " <div class=\"_cDEzb_p13n-sc-css-line-clamp-1_1Fn1y\">Dale Carnegie</div>,\n",
       " <div class=\"_cDEzb_p13n-sc-css-line-clamp-1_1Fn1y\">Tuesdays With Morrie: An old man, a young man, and life's greatest lesson [Paperback] Albom, Mitch</div>,\n",
       " <div class=\"_cDEzb_p13n-sc-css-line-clamp-1_1Fn1y\">Mitch Albom</div>,\n",
       " <div class=\"_cDEzb_p13n-sc-css-line-clamp-1_1Fn1y\">PW Physics Med Easy Notes | Notes, Formulas, Mnemonics, Tips &amp; Tricks for NEET/JEE &amp; Board Exams | MR Sir Physics Handwritten Notes</div>,\n",
       " <div class=\"_cDEzb_p13n-sc-css-line-clamp-1_1Fn1y\">Dr. Manish Raj (MR. Sir)</div>,\n",
       " <div class=\"_cDEzb_p13n-sc-css-line-clamp-1_1Fn1y\">201 Maths Activity Book - Fun Activities and Math Exercises For Children: Knowing Numbers, Addition-Subtraction, Fractions, BODMAS</div>,\n",
       " <div class=\"_cDEzb_p13n-sc-css-line-clamp-1_1Fn1y\">Wonder House Books</div>,\n",
       " <div class=\"_cDEzb_p13n-sc-css-line-clamp-1_1Fn1y\">Sank Magic Practice Copybook, (4 BOOK + 10 REFILL+ 1 Pen +1 Grip) Number Tracing Book for Preschoolers with Pen, Magic Calligraphy Copybook Set Practical Reusable Writing Tool Simple Hand Lettering</div>,\n",
       " <div class=\"_cDEzb_p13n-sc-css-line-clamp-1_1Fn1y\">Sank Magic</div>,\n",
       " <div class=\"_cDEzb_p13n-sc-css-line-clamp-1_1Fn1y\">Shlokas and Mantras - Activity Book For Kids - Illustrated Book With Engaging Activities and Sticker Sheets</div>,\n",
       " <div class=\"_cDEzb_p13n-sc-css-line-clamp-1_1Fn1y\">Wonder House Books</div>,\n",
       " <div class=\"_cDEzb_p13n-sc-css-line-clamp-1_1Fn1y\">Oswaal CBSE Sample Question Papers Class 10 English Language &amp; Literature Book (For 2024 Exam)</div>,\n",
       " <div class=\"_cDEzb_p13n-sc-css-line-clamp-1_1Fn1y\">Oswaal Editorial Board</div>,\n",
       " <div class=\"_cDEzb_p13n-sc-css-line-clamp-1_1Fn1y\">SSC GD (COMBO) MATH +REASONING+GK+HINDI</div>,\n",
       " <div class=\"_cDEzb_p13n-sc-css-line-clamp-1_1Fn1y\">Ankit Bhati</div>,\n",
       " <div class=\"_cDEzb_p13n-sc-css-line-clamp-1_1Fn1y\">1001 Ultimate Brain Booster Activities for 3 to 6 Years Old Kids |Enhance the Child Mind with Cognitive Excellence with Interactive Activity Book</div>,\n",
       " <div class=\"_cDEzb_p13n-sc-css-line-clamp-1_1Fn1y\">Team Pegasus</div>,\n",
       " <div class=\"_cDEzb_p13n-sc-css-line-clamp-1_1Fn1y\">Oxford Student Atlas for India, Fourth Edition - Useful for Competitive Exams</div>,\n",
       " <div class=\"_cDEzb_p13n-sc-css-line-clamp-1_1Fn1y\">Oxford University Press</div>,\n",
       " <div class=\"_cDEzb_p13n-sc-css-line-clamp-1_1Fn1y\">Animals Tales From Panchtantra: Timeless Stories for Children From Ancient India</div>,\n",
       " <div class=\"_cDEzb_p13n-sc-css-line-clamp-1_1Fn1y\">Wonder House Books</div>,\n",
       " <div class=\"_cDEzb_p13n-sc-css-line-clamp-1_1Fn1y\">Oswaal CBSE Class 10 Science Question Bank (For 2024 Board Exams)</div>,\n",
       " <div class=\"_cDEzb_p13n-sc-css-line-clamp-1_1Fn1y\">Oswaal Editorial Board</div>,\n",
       " <div class=\"_cDEzb_p13n-sc-css-line-clamp-1_1Fn1y\">Ali Abdaal</div>,\n",
       " <div class=\"_cDEzb_p13n-sc-css-line-clamp-1_1Fn1y\">Oswaal CBSE Sample Question Papers Class 10 Mathematics Basic Book (For Board Exams 2024) | 2023-24</div>,\n",
       " <div class=\"_cDEzb_p13n-sc-css-line-clamp-1_1Fn1y\">Oswaal Editorial Board</div>]"
      ]
     },
     "execution_count": 198,
     "metadata": {},
     "output_type": "execute_result"
    }
   ],
   "source": [
    "#get data\n",
    "booktitle_selector = '_cDEzb_p13n-sc-css-line-clamp-1_1Fn1y' \n",
    "booktitle_tag = doc.find_all('div',{'class':booktitle_selector})\n",
    "booktitle_tag"
   ]
  },
  {
   "cell_type": "code",
   "execution_count": 199,
   "id": "a30d909a-d132-431b-b556-468041c1e71d",
   "metadata": {},
   "outputs": [],
   "source": [
    "bookauthor_selector = '_cDEzb_p13n-sc-css-line-clamp-1_1Fn1y' \n",
    "bookauthor = doc.find_all('div',{'class':bookauthor_selector})\n"
   ]
  },
  {
   "cell_type": "code",
   "execution_count": 200,
   "id": "3a70209a-4bdf-4639-a295-5fc232bd67b8",
   "metadata": {},
   "outputs": [],
   "source": [
    "booktype_selector = 'a-size-small a-color-secondary a-text-normal'\n",
    "booktype = doc.find_all('span',{'class':booktype_selector})\n"
   ]
  },
  {
   "cell_type": "code",
   "execution_count": 201,
   "id": "33eede72-4417-456c-ba70-6ed569dd0b7f",
   "metadata": {},
   "outputs": [],
   "source": [
    "bookrating_selector = 'a-icon a-icon-star-small a-star-small-4-5 aok-align-top'\n",
    "bookrating = doc.find_all('i',{'class':bookrating_selector})\n"
   ]
  },
  {
   "cell_type": "code",
   "execution_count": 202,
   "id": "85d5acc3-5dd5-498e-adeb-20259c63231d",
   "metadata": {},
   "outputs": [],
   "source": [
    "bookprice_selector ='p13n-sc-price'\n",
    "bookprice = doc.find_all('span', {'class':bookprice_selector})\n"
   ]
  },
  {
   "cell_type": "code",
   "execution_count": 203,
   "id": "f0d5d417-531c-48ca-a2c4-a9a1ba2172c1",
   "metadata": {},
   "outputs": [],
   "source": [
    "bookdetails=[]\n",
    "for bookdetail in booktitle_tag:\n",
    "   bookdetails.append(bookdetail.text)\n",
    "list1 = bookdetails[:30:2]\n",
    "list2_title = bookdetails [30:94:2]"
   ]
  },
  {
   "cell_type": "code",
   "execution_count": 224,
   "id": "2d40e78e-cb0e-492d-a968-ea1a5e1ca7d8",
   "metadata": {},
   "outputs": [
    {
     "name": "stdout",
     "output_type": "stream",
     "text": [
      "[['James Clear', 'Sunil Gurjar'], ['My First Library: Boxset of 10 Board Books for Kids', 'Wonder House Books'], [\"Don't Believe Everything You Think (English)\", 'Joseph Nguyen'], ['Ikigai', 'Francesc Miralles'], ['Oswaal CBSE Sample Question Papers Class 10 Science Book (For Board Exams 2024) | 2023-24', 'Oswaal Editorial Board'], ['The Power of Your Subconscious Mind', 'Joseph Murphy'], ['Shrimad Bhagwat Geeta Yatharoop', 'A.C. Bhaktivendanta Swami Prabhupada'], ['The Psychology Of Money', 'Morgan Housel'], ['Oswaal CBSE Sample Question Papers Class 10 Mathematics Standard Book (For Board Exams 2024) | 2023-24', 'Oswaal Editorial Board'], ['Colouring Books Boxset: Pack of 12 Copy Colour Books For Children', 'Wonder House Books'], ['201 Brain Booster Activity Book - Fun Activities and Exercises For Children: Tracing & Pattern, Colors & Shapes, Maze', 'Wonder House Books'], ['33 Days Challenge CBSE Class 10 Final Revision Book Pack of 3 Mathematics Standard Science Social Science for 2024 Board Exam (Includes Sample Papers) by Padhle Akshay', 'Akshay Kumar'], ['My First Book of Patterns Pencil Control: Patterns Practice book for kids (Pattern Writing)', 'Wonder House Books'], [\"Breaking the Mould : Reimagining India's Economic Future\", 'Raghuram Rajan'], ['S. Jaishankar', 'THE 48 LAWS OF POWER'], ['Robert Greene', 'Rich Dad Poor Dad: 25th Anniversary Edit'], ['Robert T. Kiyosaki', 'Diary Of A Wimpy Kid: No Brainer (Book 18)'], ['Jeff Kinney', \"Grandma's Bag of Stories: Collection of 20+ Illustrated short stories, traditional Indian folk tales for all ages for children of all ages by Sudha Murty [Paperback] Sudha Murty\"], ['Murty Sudha', 'Brain Activity Book for Kids - 200+ Activities for Age 3+'], ['Maple Press', 'THE SILENT PATIENT [Paperback] Michaelides, Alex'], ['Alex Michaelides', 'Do It Today: Overcome procrastination, improve productivity and achieve more meaningful things [Paperback] Foroux, Darius'], ['Darius Foroux', 'You Can'], ['George Matthew Adams', 'My First Mythology Tale (Illustrated) (Set of 5 Books) - Mahabharata, Krishna, Hanuman, Ganesha, Ramayana - Story Book for Kids - English Short Stories with Colourful Pictures - Read Aloud to Infants, Toddlers'], ['Maple Press', 'BRAHMASTRA Complete Maths Multicolored Formula Book Second Edition BILINGUAL by Aditya Ranjan Sir'], ['Aditya Ranjan Sir', 'Moral Story Books for Kids (Illustrated) - English Short Stories with Colourful Pictures - Bedtime Children Story Book - 3 Years to 6 Years Old Children - Read Aloud to Infants, Toddlers\\xa0(Set of 10 Books)'], ['Maple Press', 'Oswaal CBSE Sample Question Papers Class 10 Social Science Book (For Board Exams 2024) | 2023-24'], ['Oswaal Editorial Board', 'Oswal - Gurukul Last Years 10 Solved Papers for CBSE Class 10 Exam 2024 - Yearwise Board Solutions of Math Standard, English, Science & Social Science (All Sets Delhi & Outside), Latest Syllabus'], ['Oswal - Gurukul', 'The Power of Your Subconscious Mind'], ['Joseph Murphy', 'World’s Greatest Books For Personal Growth & Wealth (Set of 4 Books) : Perfect Motivational Gift Set'], ['Dale Carnegie', 'Same As Ever: Timeless Lessons on Risk, Opportunity and Living a Good Life'], ['Morgan Housel', 'Meditations'], ['Marcus Aurelius', \"Man's Search For Meaning: The classic tribute to hope from the Holocaust\"], ['Victor E. Frankl', 'Think And Grow Rich\\xa0[Original Edition (Complete), PREMIUM PAPERBACK]'], ['Napoleon Hill', 'Trading Chart Pattern Book In Hindi | Includes Candlestick & Breakout Patterns | Indicators & Risk Management |'], ['Jagannath Patait', 'How to Win Friends\\xa0and Influence People'], ['Dale Carnegie', \"Tuesdays With Morrie: An old man, a young man, and life's greatest lesson [Paperback] Albom, Mitch\"], ['Mitch Albom', 'PW Physics Med Easy Notes | Notes, Formulas, Mnemonics, Tips & Tricks for NEET/JEE & Board Exams | MR Sir Physics Handwritten Notes'], ['Dr. Manish Raj (MR. Sir)', '201 Maths Activity Book - Fun Activities and Math Exercises For Children: Knowing Numbers, Addition-Subtraction, Fractions, BODMAS'], ['Wonder House Books', 'Sank Magic Practice Copybook, (4 BOOK + 10 REFILL+ 1 Pen +1 Grip) Number Tracing Book for Preschoolers with Pen, Magic Calligraphy Copybook Set Practical Reusable Writing Tool Simple Hand Lettering'], ['Sank Magic', 'Shlokas and Mantras - Activity Book For Kids - Illustrated Book With Engaging Activities and Sticker Sheets'], ['Wonder House Books', 'Oswaal CBSE Sample Question Papers Class 10 English Language & Literature Book (For 2024 Exam)'], ['Oswaal Editorial Board', 'SSC GD (COMBO) MATH +REASONING+GK+HINDI'], ['Ankit Bhati', '1001 Ultimate Brain Booster Activities for 3 to 6 Years Old Kids |Enhance the Child Mind with Cognitive Excellence with Interactive Activity Book'], ['Team Pegasus', 'Oxford Student Atlas for India, Fourth Edition - Useful for Competitive Exams'], ['Oxford University Press', 'Animals Tales From Panchtantra: Timeless Stories for Children From Ancient India'], ['Wonder House Books', 'Oswaal CBSE Class 10 Science Question Bank (For 2024 Board Exams)'], ['Oswaal Editorial Board', 'Ali Abdaal'], ['Oswaal CBSE Sample Question Papers Class 10 Mathematics Basic Book (For Board Exams 2024) | 2023-24', 'Oswaal Editorial Board']]\n"
     ]
    }
   ],
   "source": [
    "chunk_size = 2\n",
    "list_chunked = [bookdetails[i:i + chunk_size] for i in range(1, len(bookdetails), chunk_size)]\n",
    "print(list_chunked)"
   ]
  },
  {
   "cell_type": "code",
   "execution_count": 212,
   "id": "0ad19a0c-1bc8-407e-aeb6-1ae5fcd6408a",
   "metadata": {},
   "outputs": [
    {
     "data": {
      "text/plain": [
       "['Atomic Habits',\n",
       " 'Sunil Gurjar',\n",
       " 'Wonder House Books',\n",
       " 'Joseph Nguyen',\n",
       " 'Francesc Miralles',\n",
       " 'Oswaal Editorial Board',\n",
       " 'Joseph Murphy',\n",
       " 'A.C. Bhaktivendanta Swami Prabhupada',\n",
       " 'Morgan Housel',\n",
       " 'Oswaal Editorial Board',\n",
       " 'Wonder House Books',\n",
       " 'Wonder House Books',\n",
       " 'Akshay Kumar',\n",
       " 'Wonder House Books',\n",
       " 'Raghuram Rajan']"
      ]
     },
     "execution_count": 212,
     "metadata": {},
     "output_type": "execute_result"
    }
   ],
   "source": [
    "list1"
   ]
  },
  {
   "cell_type": "code",
   "execution_count": null,
   "id": "39e2e2d0-97e2-4f11-b3f2-06eb396bca63",
   "metadata": {},
   "outputs": [],
   "source": []
  },
  {
   "cell_type": "code",
   "execution_count": null,
   "id": "58a9226d-a1fb-40c6-93b4-d4a5d7974466",
   "metadata": {},
   "outputs": [],
   "source": []
  }
 ],
 "metadata": {
  "kernelspec": {
   "display_name": "Python 3 (ipykernel)",
   "language": "python",
   "name": "python3"
  },
  "language_info": {
   "codemirror_mode": {
    "name": "ipython",
    "version": 3
   },
   "file_extension": ".py",
   "mimetype": "text/x-python",
   "name": "python",
   "nbconvert_exporter": "python",
   "pygments_lexer": "ipython3",
   "version": "3.11.4"
  }
 },
 "nbformat": 4,
 "nbformat_minor": 5
}
