{
 "cells": [
  {
   "cell_type": "code",
   "execution_count": null,
   "id": "475f1905-6716-44f4-86fc-f629dfdd85d7",
   "metadata": {},
   "outputs": [],
   "source": [
    "import requests\n",
    "from bs4 import BeautifulSoup\n",
    "import pandas as pd"
   ]
  },
  {
   "cell_type": "code",
   "execution_count": 4,
   "id": "ded719e1-dfea-4482-944b-11b93d661020",
   "metadata": {},
   "outputs": [
    {
     "data": {
      "text/plain": [
       "200"
      ]
     },
     "execution_count": 4,
     "metadata": {},
     "output_type": "execute_result"
    }
   ],
   "source": [
    "book_url=\"https://books.toscrape.com/\"\n",
    "response = requests.get(book_url)\n",
    "url_contents = response.text\n",
    "doc = BeautifulSoup(url_contents,'html.parser')\n",
    "\n",
    "response.status_code"
   ]
  },
  {
   "cell_type": "code",
   "execution_count": 9,
   "id": "5f3c7a1c-6201-42e5-a3e6-4c7f5befa566",
   "metadata": {},
   "outputs": [],
   "source": [
    "#Getting all books \n",
    "bookdetails = doc.findAll(\n",
    "    \"li\", {\"class\": \"col-xs-6 col-sm-4 col-md-3 col-lg-3\"})\n",
    "booktitles = []\n",
    "bookprices = []\n",
    "bookratings=[]\n",
    "for book in bookdetails:\n",
    "    booktitle = doc.find_all('h3')\n",
    "    bookprice = doc.find_all('p',{'class','price_color'})\n",
    "    bookrating = doc.find_all('p' , {'class':'star-rating One'})\n",
    "    for rating in bookrating:\n",
    "        rating = doc.find_all('li')\n",
    "        #bookratings.append(len(rating)) // need fixing count the number of li per  and save to list\n",
    "    for title in booktitle:\n",
    "        booktitles.append(title.text.strip())\n",
    "    for price in bookprice:\n",
    "        bookprices.append(price.text.strip().replace(\"Â£\",\"\"))"
   ]
  },
  {
   "cell_type": "code",
   "execution_count": 14,
   "id": "217035c7-0654-45bd-baf4-d5172a508368",
   "metadata": {},
   "outputs": [],
   "source": [
    "books_dict = {\n",
    "    'Book Title':booktitles,\n",
    "    'Price':bookprices\n",
    "}"
   ]
  },
  {
   "cell_type": "code",
   "execution_count": null,
   "id": "e7aaf05a-7245-4ff6-8bcf-f9febbf697da",
   "metadata": {},
   "outputs": [],
   "source": []
  },
  {
   "cell_type": "code",
   "execution_count": 15,
   "id": "112ea867-7753-443a-bd0b-c6d37c7d8308",
   "metadata": {},
   "outputs": [],
   "source": [
    "book_df = pd.DataFrame(books_dict)"
   ]
  },
  {
   "cell_type": "code",
   "execution_count": 16,
   "id": "18dea771-7444-4379-8c1f-aa81cc85acbd",
   "metadata": {},
   "outputs": [
    {
     "data": {
      "text/html": [
       "<div>\n",
       "<style scoped>\n",
       "    .dataframe tbody tr th:only-of-type {\n",
       "        vertical-align: middle;\n",
       "    }\n",
       "\n",
       "    .dataframe tbody tr th {\n",
       "        vertical-align: top;\n",
       "    }\n",
       "\n",
       "    .dataframe thead th {\n",
       "        text-align: right;\n",
       "    }\n",
       "</style>\n",
       "<table border=\"1\" class=\"dataframe\">\n",
       "  <thead>\n",
       "    <tr style=\"text-align: right;\">\n",
       "      <th></th>\n",
       "      <th>Book Title</th>\n",
       "      <th>Price</th>\n",
       "    </tr>\n",
       "  </thead>\n",
       "  <tbody>\n",
       "    <tr>\n",
       "      <th>0</th>\n",
       "      <td>A Light in the ...</td>\n",
       "      <td>51.77</td>\n",
       "    </tr>\n",
       "    <tr>\n",
       "      <th>1</th>\n",
       "      <td>Tipping the Velvet</td>\n",
       "      <td>53.74</td>\n",
       "    </tr>\n",
       "    <tr>\n",
       "      <th>2</th>\n",
       "      <td>Soumission</td>\n",
       "      <td>50.10</td>\n",
       "    </tr>\n",
       "    <tr>\n",
       "      <th>3</th>\n",
       "      <td>Sharp Objects</td>\n",
       "      <td>47.82</td>\n",
       "    </tr>\n",
       "    <tr>\n",
       "      <th>4</th>\n",
       "      <td>Sapiens: A Brief History ...</td>\n",
       "      <td>54.23</td>\n",
       "    </tr>\n",
       "    <tr>\n",
       "      <th>...</th>\n",
       "      <td>...</td>\n",
       "      <td>...</td>\n",
       "    </tr>\n",
       "    <tr>\n",
       "      <th>395</th>\n",
       "      <td>Our Band Could Be ...</td>\n",
       "      <td>57.25</td>\n",
       "    </tr>\n",
       "    <tr>\n",
       "      <th>396</th>\n",
       "      <td>Olio</td>\n",
       "      <td>23.88</td>\n",
       "    </tr>\n",
       "    <tr>\n",
       "      <th>397</th>\n",
       "      <td>Mesaerion: The Best Science ...</td>\n",
       "      <td>37.59</td>\n",
       "    </tr>\n",
       "    <tr>\n",
       "      <th>398</th>\n",
       "      <td>Libertarianism for Beginners</td>\n",
       "      <td>51.33</td>\n",
       "    </tr>\n",
       "    <tr>\n",
       "      <th>399</th>\n",
       "      <td>It's Only the Himalayas</td>\n",
       "      <td>45.17</td>\n",
       "    </tr>\n",
       "  </tbody>\n",
       "</table>\n",
       "<p>400 rows × 2 columns</p>\n",
       "</div>"
      ],
      "text/plain": [
       "                          Book Title  Price\n",
       "0                 A Light in the ...  51.77\n",
       "1                 Tipping the Velvet  53.74\n",
       "2                         Soumission  50.10\n",
       "3                      Sharp Objects  47.82\n",
       "4       Sapiens: A Brief History ...  54.23\n",
       "..                               ...    ...\n",
       "395            Our Band Could Be ...  57.25\n",
       "396                             Olio  23.88\n",
       "397  Mesaerion: The Best Science ...  37.59\n",
       "398     Libertarianism for Beginners  51.33\n",
       "399          It's Only the Himalayas  45.17\n",
       "\n",
       "[400 rows x 2 columns]"
      ]
     },
     "execution_count": 16,
     "metadata": {},
     "output_type": "execute_result"
    }
   ],
   "source": [
    "book_df"
   ]
  },
  {
   "cell_type": "code",
   "execution_count": null,
   "id": "ff625188-0782-45a4-b64e-4a60cc79964d",
   "metadata": {},
   "outputs": [],
   "source": []
  },
  {
   "cell_type": "code",
   "execution_count": null,
   "id": "2695e4ed-5cff-4813-9af5-75255c0e0804",
   "metadata": {},
   "outputs": [],
   "source": []
  }
 ],
 "metadata": {
  "kernelspec": {
   "display_name": "Python 3 (ipykernel)",
   "language": "python",
   "name": "python3"
  },
  "language_info": {
   "codemirror_mode": {
    "name": "ipython",
    "version": 3
   },
   "file_extension": ".py",
   "mimetype": "text/x-python",
   "name": "python",
   "nbconvert_exporter": "python",
   "pygments_lexer": "ipython3",
   "version": "3.11.4"
  }
 },
 "nbformat": 4,
 "nbformat_minor": 5
}
