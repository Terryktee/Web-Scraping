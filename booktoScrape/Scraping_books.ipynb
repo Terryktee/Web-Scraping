{
 "cells": [
  {
   "cell_type": "code",
   "execution_count": 3,
   "id": "475f1905-6716-44f4-86fc-f629dfdd85d7",
   "metadata": {},
   "outputs": [],
   "source": [
    "import requests\n",
    "from bs4 import BeautifulSoup\n",
    "import pandas as pd"
   ]
  },
  {
   "cell_type": "code",
   "execution_count": 7,
   "id": "ded719e1-dfea-4482-944b-11b93d661020",
   "metadata": {},
   "outputs": [],
   "source": [
    "book_url=\"https://books.toscrape.com/\"\n",
    "response = requests.get(book_url)\n",
    "url_contents = response.text\n",
    "doc = BeautifulSoup(url_contents,'html.parser')"
   ]
  },
  {
   "cell_type": "code",
   "execution_count": null,
   "id": "5f3c7a1c-6201-42e5-a3e6-4c7f5befa566",
   "metadata": {},
   "outputs": [],
   "source": [
    "#Getting all books \n",
    "bookdetails = doc.findAll(\n",
    "    \"li\", {\"class\": \"col-xs-6 col-sm-4 col-md-3 col-lg-3\"})\n",
    "booktitles = []\n",
    "bookprice = []\n",
    "for book in bookdetails:\n",
    "    booktitle = doc.find_all('h3')\n",
    "    booktitles = booktitles.append(booktitle)\n",
    "   # bookrating = doc.find_all('p', {'class':'star-rating Three'})\n",
    "    bookprice = doc.find_all('p',{'class','price_color'})\n",
    "   # bookinstock= doc.find_all('p',{'class':'availability'})\n",
    "\n",
    "booktitles"
   ]
  },
  {
   "cell_type": "code",
   "execution_count": null,
   "id": "217035c7-0654-45bd-baf4-d5172a508368",
   "metadata": {},
   "outputs": [],
   "source": [
    "\n",
    "\n",
    "books_dict = {\n",
    "    'Title':booktitles,\n",
    "    'Bookprice':bookprice\n",
    "}"
   ]
  },
  {
   "cell_type": "code",
   "execution_count": null,
   "id": "112ea867-7753-443a-bd0b-c6d37c7d8308",
   "metadata": {},
   "outputs": [],
   "source": [
    "topic_df = pd.DataFrame(books_dict)"
   ]
  },
  {
   "cell_type": "code",
   "execution_count": null,
   "id": "18dea771-7444-4379-8c1f-aa81cc85acbd",
   "metadata": {},
   "outputs": [],
   "source": [
    "topic_df"
   ]
  },
  {
   "cell_type": "code",
   "execution_count": null,
   "id": "ff625188-0782-45a4-b64e-4a60cc79964d",
   "metadata": {},
   "outputs": [],
   "source": []
  },
  {
   "cell_type": "code",
   "execution_count": null,
   "id": "2695e4ed-5cff-4813-9af5-75255c0e0804",
   "metadata": {},
   "outputs": [],
   "source": []
  }
 ],
 "metadata": {
  "kernelspec": {
   "display_name": "Python 3 (ipykernel)",
   "language": "python",
   "name": "python3"
  },
  "language_info": {
   "codemirror_mode": {
    "name": "ipython",
    "version": 3
   },
   "file_extension": ".py",
   "mimetype": "text/x-python",
   "name": "python",
   "nbconvert_exporter": "python",
   "pygments_lexer": "ipython3",
   "version": "3.11.4"
  }
 },
 "nbformat": 4,
 "nbformat_minor": 5
}
