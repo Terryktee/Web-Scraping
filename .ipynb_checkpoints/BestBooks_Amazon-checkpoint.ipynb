{
 "cells": [
  {
   "cell_type": "code",
   "execution_count": 149,
   "id": "30547ee5-5833-4592-92cd-f8b573e88099",
   "metadata": {},
   "outputs": [],
   "source": [
    "import requests\n",
    "from bs4 import BeautifulSoup "
   ]
  },
  {
   "cell_type": "code",
   "execution_count": 173,
   "id": "8a0e6511-d859-4d42-949e-ffef9e8ab632",
   "metadata": {},
   "outputs": [],
   "source": [
    "topics_url= \"https://www.amazon.in/gp/bestsellers/books/\""
   ]
  },
  {
   "cell_type": "code",
   "execution_count": 180,
   "id": "ee1a14f7-9da4-4406-96ef-69bd3cd5fa18",
   "metadata": {},
   "outputs": [],
   "source": [
    "response= requests.get(topics_url)\n",
    "url_contents = response.text\n",
    "doc = BeautifulSoup(url_contents,'html.parser')"
   ]
  },
  {
   "cell_type": "code",
   "execution_count": 181,
   "id": "06f1642b-848f-46ff-ab87-b4c6f85a1a52",
   "metadata": {},
   "outputs": [],
   "source": [
    "#get data\n",
    "booktitle_selector = '_cDEzb_p13n-sc-css-line-clamp-1_1Fn1y'\n",
    "booktitle = doc.find_all('div',{'class':booktitle_selector})"
   ]
  },
  {
   "cell_type": "code",
   "execution_count": 182,
   "id": "a30d909a-d132-431b-b556-468041c1e71d",
   "metadata": {},
   "outputs": [],
   "source": [
    "bookname_selector = '_cDEzb_p13n-sc-css-line-clamp-1_1Fn1y'\n",
    "bookname = doc.find_all('div',{'class':bookname_selector})"
   ]
  },
  {
   "cell_type": "code",
   "execution_count": 183,
   "id": "3a70209a-4bdf-4639-a295-5fc232bd67b8",
   "metadata": {},
   "outputs": [],
   "source": [
    "booktype_selector = 'a-size-small a-color-secondary a-text-normal'\n",
    "booktype = doc.find_all('span',{'class':booktype_selector})"
   ]
  },
  {
   "cell_type": "code",
   "execution_count": 184,
   "id": "33eede72-4417-456c-ba70-6ed569dd0b7f",
   "metadata": {},
   "outputs": [],
   "source": [
    "bookrating_selector = 'a-icon a-icon-star-small a-star-small-4-5 aok-align-top'\n",
    "bookrating = doc.find_all('i',{'class':bookrating_selector})"
   ]
  },
  {
   "cell_type": "code",
   "execution_count": 196,
   "id": "85d5acc3-5dd5-498e-adeb-20259c63231d",
   "metadata": {},
   "outputs": [
    {
     "ename": "AttributeError",
     "evalue": "'NoneType' object has no attribute 'parent'",
     "output_type": "error",
     "traceback": [
      "\u001b[1;31m---------------------------------------------------------------------------\u001b[0m",
      "\u001b[1;31mAttributeError\u001b[0m                            Traceback (most recent call last)",
      "Cell \u001b[1;32mIn[196], line 2\u001b[0m\n\u001b[0;32m      1\u001b[0m bookprice_selector \u001b[38;5;241m=\u001b[39m\u001b[38;5;124m'\u001b[39m\u001b[38;5;124ma-size-base a-color-price\u001b[39m\u001b[38;5;124m'\u001b[39m\n\u001b[1;32m----> 2\u001b[0m bookprice \u001b[38;5;241m=\u001b[39m \u001b[43mdoc\u001b[49m\u001b[38;5;241;43m.\u001b[39;49m\u001b[43mfind\u001b[49m\u001b[43m(\u001b[49m\u001b[38;5;124;43m'\u001b[39;49m\u001b[38;5;124;43mspan\u001b[39;49m\u001b[38;5;124;43m'\u001b[39;49m\u001b[43m,\u001b[49m\u001b[43m \u001b[49m\u001b[43m{\u001b[49m\u001b[38;5;124;43m'\u001b[39;49m\u001b[38;5;124;43mclass\u001b[39;49m\u001b[38;5;124;43m'\u001b[39;49m\u001b[43m:\u001b[49m\u001b[43mbookprice_selector\u001b[49m\u001b[43m}\u001b[49m\u001b[43m)\u001b[49m\u001b[38;5;241;43m.\u001b[39;49m\u001b[43mparent\u001b[49m\n\u001b[0;32m      3\u001b[0m bookprice\n",
      "\u001b[1;31mAttributeError\u001b[0m: 'NoneType' object has no attribute 'parent'"
     ]
    }
   ],
   "source": [
    "bookprice_selector ='_cDEzb_p13n-sc-price_3mJ9Z'\n",
    "bookprice = doc.find_all('div', {'class':bookprice_selector})\n",
    "bookprice"
   ]
  },
  {
   "cell_type": "code",
   "execution_count": null,
   "id": "f0d5d417-531c-48ca-a2c4-a9a1ba2172c1",
   "metadata": {},
   "outputs": [],
   "source": [
    "len(bookrating)"
   ]
  },
  {
   "cell_type": "code",
   "execution_count": null,
   "id": "2d40e78e-cb0e-492d-a968-ea1a5e1ca7d8",
   "metadata": {},
   "outputs": [],
   "source": []
  }
 ],
 "metadata": {
  "kernelspec": {
   "display_name": "Python 3 (ipykernel)",
   "language": "python",
   "name": "python3"
  },
  "language_info": {
   "codemirror_mode": {
    "name": "ipython",
    "version": 3
   },
   "file_extension": ".py",
   "mimetype": "text/x-python",
   "name": "python",
   "nbconvert_exporter": "python",
   "pygments_lexer": "ipython3",
   "version": "3.11.4"
  }
 },
 "nbformat": 4,
 "nbformat_minor": 5
}
